{
 "cells": [
  {
   "cell_type": "code",
   "execution_count": 1,
   "metadata": {},
   "outputs": [],
   "source": [
    "import numpy as np\n",
    "import matplotlib.pyplot as plt\n",
    "from alive_progress import alive_bar\n",
    "import matplotlib.pyplot as plt\n",
    "import pyarma as pa\n"
   ]
  },
  {
   "cell_type": "code",
   "execution_count": 2,
   "metadata": {},
   "outputs": [],
   "source": [
    "#Probabilistic Cellular Automata\n",
    "##probability of choosing the local rule\n",
    "rule =18\n",
    "def define_f2(x):\n",
    "    return np.binary_repr(x, width=8)\n",
    "bin_rule = define_f2(rule) \n",
    "\n",
    "def f_cell(xl,x,xr,Lb):\n",
    "    \"\"\" Chose the local rule with probability Lb and the null rule with probability 1-Lb\"\"\"\n",
    "    if np.random.rand()>Lb:\n",
    "        return 0\n",
    "    else:\n",
    "        return int(bin_rule[7-(xl*4+x*2+xr)])\n",
    "\n",
    "def step_conf(x,Lb):\n",
    "    \"\"\"It gives the next configuration of the CA with periodic boundary conditions\n",
    "    Args:\n",
    "        x (_type_): configuration array of the CA at fixed time\n",
    "        rule (_type_): local rule of the CA\n",
    "    Returns:\n",
    "        _type_: _description_\n",
    "    \"\"\"\n",
    "    y=np.zeros(len(x)).astype(int)\n",
    "    y[0]=f_cell(x[-1],x[0],x[1],Lb)\n",
    "    for i in range(1,len(x)-1):\n",
    "        y[i]=f_cell(x[i-1],x[i],x[i+1],Lb)\n",
    "    y[-1]=f_cell(x[-2],x[-1],x[0],Lb)\n",
    "    return y\n",
    "\n",
    "def step(x, bin_rule):\n",
    "    powers_of_two = np.array([[4], [2], [1]])  # shape (3, 1)\n",
    "    \"\"\"Makes one step in the cellular automaton.\n",
    "    Args:\n",
    "        x (np.array): current state of the automaton\n",
    "        rule_binary (np.array): the update rule\n",
    "    Returns:\n",
    "        np.array: updated state of the automaton\n",
    "    \"\"\"\n",
    "    x_shift_right = np.roll(x, 1)  # circular shift to right\n",
    "    x_shift_left = np.roll(x, -1)  # circular shift to left\n",
    "    y = np.vstack((x_shift_right, x, x_shift_left)).astype(np.int8)  # stack row-wise, shape (3, cols)\n",
    "    z = np.sum(powers_of_two * y, axis=0).astype(np.int8)  # LCR pattern as number\n",
    "\n",
    "\n",
    "def plot_conf(x):\n",
    "    \"\"\"Plot the configuration of the CA\n",
    "    Args:\n",
    "        x (_type_): configuration array of the CA at fixed time\n",
    "    Returns:\n",
    "        _type_: _description_\n",
    "    \"\"\"\n",
    "    plt.figure(figsize=(10,10))\n",
    "    plt.show()\n",
    "\n",
    "def density(x):\n",
    "    \"\"\"It gives the density of the CA\n",
    "    Args:\n",
    "        x (_type_): configuration array of the CA at fixed time\n",
    "    Returns:\n",
    "        _type_: _description_\n",
    "    \"\"\"\n",
    "    return np.sum(x)/len(x)\n"
   ]
  },
  {
   "cell_type": "code",
   "execution_count": 4,
   "metadata": {},
   "outputs": [
    {
     "name": "stdout",
     "output_type": "stream",
     "text": [
      "|████████████████████████████████████████| 100/100 [100%] in 52.4s (1.91/s)                                             \n",
      "Density 0.467\n"
     ]
    },
    {
     "data": {
      "image/png": "[encoded data removed]",
      "text/plain": [
       "<Figure size 640x480 with 1 Axes>"
      ]
     },
     "metadata": {},
     "output_type": "display_data"
    }
   ],
   "source": [
    "#Starting random configuration \n",
    "n=1e3\n",
    "Lb=np.linspace(0,1,100)\n",
    "Time = int(500)\n",
    "x=np.random.randint(0,2,int(n))\n",
    "h=x\n",
    "densities=np.zeros(len(Lb))\n",
    "with alive_bar(len(Lb),force_tty=True) as bar:\n",
    "    for i in range(0,len(Lb)):\n",
    "        x=h\n",
    "        for t in range(Time):\n",
    "            x=step_conf(x,Lb[i])\n",
    "        densities[i] = density(x)\n",
    "        bar()\n",
    "#print(\"Density\",density(x))\n",
    "#print(\"Final  \", x)\n",
    "print(\"Density\",density(x))\n",
    "plt.plot(Lb,densities)\n",
    "plt.xlabel(\"Lambda\")\n",
    "plt.ylabel(\"Density\")\n",
    "plt.grid()\n",
    "plt.show()\n"
   ]
  },
  {
   "cell_type": "code",
   "execution_count": 31,
   "metadata": {},
   "outputs": [
    {
     "name": "stdout",
     "output_type": "stream",
     "text": [
      "Density 0.2551489702059588\n"
     ]
    }
   ],
   "source": [
    "# Cellulare Automata Traffic flow model rule 184\n",
    "# Path: CA.ipynb\n",
    "import numpy as np\n",
    "import matplotlib.pyplot as plt\n",
    "from alive_progress import alive_bar\n",
    "import matplotlib.pyplot as plt\n"
   ]
  },
  {
   "cell_type": "code",
   "execution_count": null,
   "metadata": {},
   "outputs": [],
   "source": []
  }
 ],
 "metadata": {
  "kernelspec": {
   "display_name": "Python 3.8.13 ('base')",
   "language": "python",
   "name": "python3"
  },
  "language_info": {
   "codemirror_mode": {
    "name": "ipython",
    "version": 3
   },
   "file_extension": ".py",
   "mimetype": "text/x-python",
   "name": "python",
   "nbconvert_exporter": "python",
   "pygments_lexer": "ipython3",
   "version": "3.8.13"
  },
  "orig_nbformat": 4,
  "vscode": {
   "interpreter": {
    "hash": "40d3a090f54c6569ab1632332b64b2c03c39dcf918b08424e98f38b5ae0af88f"
   }
  }
 },
 "nbformat": 4,
 "nbformat_minor": 2
}
